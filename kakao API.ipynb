{
 "cells": [
  {
   "cell_type": "code",
   "execution_count": 7,
   "id": "0f049d0d",
   "metadata": {},
   "outputs": [
    {
     "name": "stdout",
     "output_type": "stream",
     "text": [
      "Requirement already satisfied: requests in c:\\users\\samsung\\anaconda3\\lib\\site-packages (2.32.4)\n",
      "Requirement already satisfied: charset_normalizer<4,>=2 in c:\\users\\samsung\\anaconda3\\lib\\site-packages (from requests) (3.3.2)\n",
      "Requirement already satisfied: idna<4,>=2.5 in c:\\users\\samsung\\anaconda3\\lib\\site-packages (from requests) (3.7)\n",
      "Requirement already satisfied: urllib3<3,>=1.21.1 in c:\\users\\samsung\\anaconda3\\lib\\site-packages (from requests) (2.2.3)\n",
      "Requirement already satisfied: certifi>=2017.4.17 in c:\\users\\samsung\\anaconda3\\lib\\site-packages (from requests) (2024.8.30)\n"
     ]
    }
   ],
   "source": [
    "!pip install requests"
   ]
  },
  {
   "cell_type": "code",
   "execution_count": 11,
   "id": "02b66e6c",
   "metadata": {},
   "outputs": [
    {
     "name": "stdout",
     "output_type": "stream",
     "text": [
      "Requirement already satisfied: requests in c:\\users\\samsung\\anaconda3\\lib\\site-packages (2.32.4)\n",
      "Requirement already satisfied: charset_normalizer<4,>=2 in c:\\users\\samsung\\anaconda3\\lib\\site-packages (from requests) (3.3.2)\n",
      "Requirement already satisfied: idna<4,>=2.5 in c:\\users\\samsung\\anaconda3\\lib\\site-packages (from requests) (3.7)\n",
      "Requirement already satisfied: urllib3<3,>=1.21.1 in c:\\users\\samsung\\anaconda3\\lib\\site-packages (from requests) (2.2.3)\n",
      "Requirement already satisfied: certifi>=2017.4.17 in c:\\users\\samsung\\anaconda3\\lib\\site-packages (from requests) (2024.8.30)\n"
     ]
    }
   ],
   "source": [
    "!pip3 install requests"
   ]
  },
  {
   "cell_type": "code",
   "execution_count": 12,
   "id": "2f31ba89",
   "metadata": {},
   "outputs": [
    {
     "name": "stdout",
     "output_type": "stream",
     "text": [
      "c:\\Users\\SAMSUNG\\AppData\\Local\\Programs\\Python\\Python313\\python.exe\n"
     ]
    }
   ],
   "source": [
    "import sys\n",
    "print(sys.executable)\n"
   ]
  },
  {
   "cell_type": "code",
   "execution_count": 13,
   "id": "73be71bd",
   "metadata": {},
   "outputs": [
    {
     "name": "stderr",
     "output_type": "stream",
     "text": [
      "'which'��(��) ���� �Ǵ� �ܺ� ����, ������ �� �ִ� ���α׷�, �Ǵ�\n",
      "��ġ ������ �ƴմϴ�.\n"
     ]
    },
    {
     "name": "stdout",
     "output_type": "stream",
     "text": [
      "C:\\Users\\SAMSUNG\\anaconda3\\Scripts\\pip.exe\n",
      "C:\\Users\\SAMSUNG\\AppData\\Local\\Programs\\Python\\Python313\\Scripts\\pip.exe\n"
     ]
    },
    {
     "name": "stderr",
     "output_type": "stream",
     "text": [
      "����: \"#\"��(��) ã�� �� �����ϴ�.\n",
      "����: \"Windows\"��(��) ã�� �� �����ϴ�.\n"
     ]
    }
   ],
   "source": [
    "!which pip  # Mac/Linux\n",
    "# 또는\n",
    "!where pip  # Windows\n"
   ]
  },
  {
   "cell_type": "code",
   "execution_count": 14,
   "id": "0dc84c6b",
   "metadata": {},
   "outputs": [
    {
     "name": "stdout",
     "output_type": "stream",
     "text": [
      "❌ requests가 설치되지 않았습니다. 설치를 시도합니다...\n",
      "Collecting requests\n",
      "  Using cached requests-2.32.4-py3-none-any.whl.metadata (4.9 kB)\n",
      "Collecting charset_normalizer<4,>=2 (from requests)\n",
      "  Downloading charset_normalizer-3.4.2-cp313-cp313-win_amd64.whl.metadata (36 kB)\n",
      "Collecting idna<4,>=2.5 (from requests)\n",
      "  Downloading idna-3.10-py3-none-any.whl.metadata (10 kB)\n",
      "Collecting urllib3<3,>=1.21.1 (from requests)\n",
      "  Downloading urllib3-2.5.0-py3-none-any.whl.metadata (6.5 kB)\n",
      "Collecting certifi>=2017.4.17 (from requests)\n",
      "  Downloading certifi-2025.7.14-py3-none-any.whl.metadata (2.4 kB)\n",
      "Using cached requests-2.32.4-py3-none-any.whl (64 kB)\n",
      "Downloading charset_normalizer-3.4.2-cp313-cp313-win_amd64.whl (105 kB)\n",
      "Downloading idna-3.10-py3-none-any.whl (70 kB)\n",
      "Downloading urllib3-2.5.0-py3-none-any.whl (129 kB)\n",
      "Downloading certifi-2025.7.14-py3-none-any.whl (162 kB)\n",
      "Installing collected packages: urllib3, idna, charset_normalizer, certifi, requests\n",
      "\n",
      "   ---------------------------------------- 0/5 [urllib3]\n",
      "   ---------------------------------------- 0/5 [urllib3]\n",
      "   ---------------------------------------- 0/5 [urllib3]\n",
      "   ---------------------------------------- 0/5 [urllib3]\n",
      "   -------- ------------------------------- 1/5 [idna]\n",
      "   ---------------- ----------------------- 2/5 [charset_normalizer]\n",
      "   ---------------- ----------------------- 2/5 [charset_normalizer]\n",
      "   ------------------------ --------------- 3/5 [certifi]\n",
      "   -------------------------------- ------- 4/5 [requests]\n",
      "   -------------------------------- ------- 4/5 [requests]\n",
      "   ---------------------------------------- 5/5 [requests]\n",
      "\n",
      "Successfully installed certifi-2025.7.14 charset_normalizer-3.4.2 idna-3.10 requests-2.32.4 urllib3-2.5.0\n"
     ]
    },
    {
     "name": "stderr",
     "output_type": "stream",
     "text": [
      "\n",
      "[notice] A new release of pip is available: 25.1.1 -> 25.2\n",
      "[notice] To update, run: python.exe -m pip install --upgrade pip\n"
     ]
    }
   ],
   "source": [
    "try:\n",
    "    import requests\n",
    "    print(\"✅ requests 불러오기 성공!\")\n",
    "except ImportError:\n",
    "    print(\"❌ requests가 설치되지 않았습니다. 설치를 시도합니다...\")\n",
    "    import sys\n",
    "    !{sys.executable} -m pip install requests\n"
   ]
  },
  {
   "cell_type": "code",
   "execution_count": 15,
   "id": "2524fa12",
   "metadata": {},
   "outputs": [],
   "source": [
    "import requests\n",
    "\n",
    "def get_coords(address, api_key):\n",
    "    url = \"https://dapi.kakao.com/v2/local/search/address.json\"\n",
    "    headers = {\"Authorization\": f\"KakaoAK {api_key}\"}\n",
    "    params = {\"query\": address}\n",
    "    response = requests.get(url, headers=headers, params=params)\n",
    "    result = response.json()\n",
    "    if result['documents']:\n",
    "        x = result['documents'][0]['x']  # 경도\n",
    "        y = result['documents'][0]['y']  # 위도\n",
    "        return x, y\n",
    "    else:\n",
    "        return None, None\n",
    "\n"
   ]
  },
  {
   "cell_type": "markdown",
   "id": "6898cb32",
   "metadata": {},
   "source": [
    "## 1. 회사 주소 → 좌표 변환 (Kakao Local API 사용)"
   ]
  },
  {
   "cell_type": "code",
   "execution_count": 27,
   "id": "ae336e24",
   "metadata": {},
   "outputs": [
    {
     "name": "stdout",
     "output_type": "stream",
     "text": [
      "📦 API 응답: {'documents': [{'address': {'address_name': '경기 성남시 분당구 삼평동 615', 'b_code': '4113510900', 'h_code': '4113565500', 'main_address_no': '615', 'mountain_yn': 'N', 'region_1depth_name': '경기', 'region_2depth_name': '성남시 분당구', 'region_3depth_h_name': '삼평동', 'region_3depth_name': '삼평동', 'sub_address_no': '', 'x': '127.098937173285', 'y': '37.4044515123315'}, 'address_name': '경기 성남시 분당구 판교로227번길 23', 'address_type': 'ROAD_ADDR', 'road_address': {'address_name': '경기 성남시 분당구 판교로227번길 23', 'building_name': '판교R&D센터', 'main_building_no': '23', 'region_1depth_name': '경기', 'region_2depth_name': '성남시 분당구', 'region_3depth_name': '삼평동', 'road_name': '판교로227번길', 'sub_building_no': '', 'underground_yn': 'N', 'x': '127.098937173285', 'y': '37.4044515123315', 'zone_no': '13486'}, 'x': '127.098937173285', 'y': '37.4044515123315'}], 'meta': {'is_end': True, 'pageable_count': 1, 'total_count': 1}}\n",
      "경도: 127.098937173285\n",
      "위도: 37.4044515123315\n"
     ]
    }
   ],
   "source": [
    "def get_coords(address, api_key):\n",
    "    url = \"https://dapi.kakao.com/v2/local/search/address.json\"\n",
    "    headers = {\"Authorization\": f\"KakaoAK {api_key}\"}\n",
    "    params = {\"query\": address}\n",
    "    response = requests.get(url, headers=headers, params=params)\n",
    "    result = response.json()\n",
    "\n",
    "    # 응답 결과 출력 (디버깅용)\n",
    "    print(\"📦 API 응답:\", result)\n",
    "\n",
    "    if 'documents' in result and result['documents']:\n",
    "        x = result['documents'][0]['x']\n",
    "        y = result['documents'][0]['y']\n",
    "        return x, y\n",
    "    else:\n",
    "        return None, None\n",
    "    \n",
    "# 여기에 내 주소와 REST API 키 입력\n",
    "address = \"경기 성남시 분당구 판교로227번길 23\"\n",
    "api_key = \"fb1bd569e343b2b3821ea18ec1694b74\"\n",
    "\n",
    "# 함수 호출\n",
    "x, y = get_coords(address, api_key)\n",
    "\n",
    "print(\"경도:\", x)\n",
    "print(\"위도:\", y)\n"
   ]
  },
  {
   "cell_type": "code",
   "execution_count": 25,
   "id": "dc3b6bfa",
   "metadata": {},
   "outputs": [
    {
     "name": "stdout",
     "output_type": "stream",
     "text": [
      "Authorization 헤더 확인: KakaoAK fb1bd569e343b2b3821ea18ec1694b74\n"
     ]
    }
   ],
   "source": [
    "print(f\"Authorization 헤더 확인: KakaoAK {api_key}\")\n"
   ]
  },
  {
   "cell_type": "code",
   "execution_count": 26,
   "id": "ba5ca959",
   "metadata": {},
   "outputs": [
    {
     "name": "stdout",
     "output_type": "stream",
     "text": [
      "403\n",
      "{'errorType': 'NotAuthorizedError', 'message': 'App(최적 원룸 추천기) disabled OPEN_MAP_AND_LOCAL service.'}\n"
     ]
    }
   ],
   "source": [
    "import requests\n",
    "\n",
    "api_key = \"fb1bd569e343b2b3821ea18ec1694b74\"  # 여기 공백 없이 정확하게!\n",
    "\n",
    "url = \"https://dapi.kakao.com/v2/local/search/address.json\"\n",
    "headers = {\"Authorization\": f\"KakaoAK {api_key}\"}\n",
    "params = {\"query\": \"서울 강남구 테헤란로 10\"}\n",
    "\n",
    "response = requests.get(url, headers=headers, params=params)\n",
    "print(response.status_code)\n",
    "print(response.json())\n"
   ]
  },
  {
   "cell_type": "markdown",
   "id": "012c1c75",
   "metadata": {},
   "source": [
    "## 2. 집 주소 → 좌표 변환 (Kakao Local API 사용)"
   ]
  },
  {
   "cell_type": "code",
   "execution_count": 31,
   "id": "81f1ba40",
   "metadata": {},
   "outputs": [
    {
     "name": "stdout",
     "output_type": "stream",
     "text": [
      "📦 API 응답: {'documents': [{'address': {'address_name': '서울 강남구 삼성동 117-1', 'b_code': '1168010500', 'h_code': '1168059000', 'main_address_no': '117', 'mountain_yn': 'N', 'region_1depth_name': '서울', 'region_2depth_name': '강남구', 'region_3depth_h_name': '삼성2동', 'region_3depth_name': '삼성동', 'sub_address_no': '1', 'x': '127.052427705027', 'y': '37.5125058180695'}, 'address_name': '서울 강남구 봉은사로 476', 'address_type': 'ROAD_ADDR', 'road_address': {'address_name': '서울 강남구 봉은사로 476', 'building_name': '한일빌딩', 'main_building_no': '476', 'region_1depth_name': '서울', 'region_2depth_name': '강남구', 'region_3depth_name': '삼성동', 'road_name': '봉은사로', 'sub_building_no': '', 'underground_yn': 'N', 'x': '127.052427705027', 'y': '37.5125058180695', 'zone_no': '06154'}, 'x': '127.052427705027', 'y': '37.5125058180695'}], 'meta': {'is_end': True, 'pageable_count': 1, 'total_count': 1}}\n",
      "경도: 127.052427705027\n",
      "위도: 37.5125058180695\n"
     ]
    }
   ],
   "source": [
    "def get_coords(address, api_key):\n",
    "    url = \"https://dapi.kakao.com/v2/local/search/address.json\"\n",
    "    headers = {\"Authorization\": f\"KakaoAK {api_key}\"}\n",
    "    params = {\"query\": address}\n",
    "    response = requests.get(url, headers=headers, params=params)\n",
    "    result = response.json()\n",
    "\n",
    "    # 응답 결과 출력 (디버깅용)\n",
    "    print(\"📦 API 응답:\", result)\n",
    "\n",
    "    if 'documents' in result and result['documents']:\n",
    "        x = result['documents'][0]['x']\n",
    "        y = result['documents'][0]['y']\n",
    "        return x, y\n",
    "    else:\n",
    "        return None, None\n",
    "    \n",
    "# 여기에 내 주소와 REST API 키 입력\n",
    "address = \"서울 강남구 봉은사로 476 6층 602호\"\n",
    "api_key = \"fb1bd569e343b2b3821ea18ec1694b74\"\n",
    "\n",
    "# 함수 호출\n",
    "x, y = get_coords(address, api_key)\n",
    "\n",
    "print(\"경도:\", x)\n",
    "print(\"위도:\", y)"
   ]
  },
  {
   "cell_type": "markdown",
   "id": "0c9b0c06",
   "metadata": {},
   "source": [
    "## 3. 길찾기 API 호출 (자동차 기준)"
   ]
  },
  {
   "cell_type": "code",
   "execution_count": null,
   "id": "d2110641",
   "metadata": {},
   "outputs": [],
   "source": [
    "def get_route_time_and_distance(start_x, start_y, end_x, end_y, api_key):\n",
    "    url = \"https://apis-navi.kakaomobility.com/v1/directions\"\n",
    "    headers = {\n",
    "        \"Authorization\": f\"KakaoAK {api_key}\",\n",
    "        \"Content-Type\": \"application/json\"\n",
    "    }\n",
    "    data = {\n",
    "        \"origin\": {\"x\": start_x, \"y\": start_y},\n",
    "        \"destination\": {\"x\": end_x, \"y\": end_y},\n",
    "        \"priority\": \"RECOMMEND\"\n",
    "    }\n",
    "    response = requests.post(url, headers=headers, json=data)\n",
    "    result = response.json()\n",
    "    if result.get(\"routes\"):\n",
    "        distance = result[\"routes\"][0][\"summary\"][\"distance\"]  # meter\n",
    "        duration = result[\"routes\"][0][\"summary\"][\"duration\"]  # milliseconds\n",
    "        return distance, duration\n",
    "    else:\n",
    "        return None, None\n"
   ]
  },
  {
   "cell_type": "markdown",
   "id": "83e17c0e",
   "metadata": {},
   "source": [
    "## 4. 전체 사용"
   ]
  },
  {
   "cell_type": "code",
   "execution_count": null,
   "id": "133edeb8",
   "metadata": {},
   "outputs": [],
   "source": [
    "API_KEY = \"여기에_발급받은_카카오_REST_API_키\"\n",
    "\n",
    "# 주소 → 좌표\n",
    "home_x, home_y = get_coords(\"서울시 송파구 올림픽로 300\", API_KEY)\n",
    "company_x, company_y = get_coords(\"서울시 강남구 테헤란로 10\", API_KEY)\n",
    "\n",
    "# 거리/시간 계산\n",
    "if home_x and company_x:\n",
    "    distance, duration = get_route_time_and_distance(home_x, home_y, company_x, company_y, API_KEY)\n",
    "    print(f\"거리: {distance/1000:.2f} km\")\n",
    "    print(f\"예상 소요시간: {duration/60000:.1f} 분\")\n"
   ]
  }
 ],
 "metadata": {
  "kernelspec": {
   "display_name": "Python 3",
   "language": "python",
   "name": "python3"
  },
  "language_info": {
   "codemirror_mode": {
    "name": "ipython",
    "version": 3
   },
   "file_extension": ".py",
   "mimetype": "text/x-python",
   "name": "python",
   "nbconvert_exporter": "python",
   "pygments_lexer": "ipython3",
   "version": "3.13.5"
  }
 },
 "nbformat": 4,
 "nbformat_minor": 5
}
