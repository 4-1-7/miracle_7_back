{
 "cells": [
  {
   "cell_type": "markdown",
   "id": "43a50a19",
   "metadata": {},
   "source": [
    "## 1. 회사 주소 → 좌표 변환 (Kakao Local API 사용)"
   ]
  },
  {
   "cell_type": "code",
   "execution_count": null,
   "id": "2524fa12",
   "metadata": {},
   "outputs": [],
   "source": [
    "import requests\n",
    "\n",
    "def get_coords(경기 성남시 분당구 판교로227번길 23, fb1bd569e343b2b3821ea18ec1694b74): # address, api_key 입력\n",
    "    url = \"https://dapi.kakao.com/v2/local/search/address.json\"\n",
    "    headers = {\"Authorization\": f\"KakaoAK {api_key}\"}\n",
    "    params = {\"query\": address}\n",
    "    response = requests.get(url, headers=headers, params=params)\n",
    "    result = response.json()\n",
    "    if result['documents']:\n",
    "        x = result['documents'][0]['x']  # 경도\n",
    "        y = result['documents'][0]['y']  # 위도\n",
    "        return x, y\n",
    "    else:\n",
    "        return None, None\n"
   ]
  },
  {
   "cell_type": "markdown",
   "id": "012c1c75",
   "metadata": {},
   "source": [
    "## 2. 집 주소 → 좌표 변환 (Kakao Local API 사용)"
   ]
  },
  {
   "cell_type": "code",
   "execution_count": null,
   "id": "cd87283c",
   "metadata": {},
   "outputs": [],
   "source": [
    "import requests\n",
    "\n",
    "def get_coords(address, api_key):\n",
    "    url = \"https://dapi.kakao.com/v2/local/search/address.json\"\n",
    "    headers = {\"Authorization\": f\"KakaoAK {api_key}\"}\n",
    "    params = {\"query\": address}\n",
    "    response = requests.get(url, headers=headers, params=params)\n",
    "    result = response.json()\n",
    "    if result['documents']:\n",
    "        x = result['documents'][0]['x']  # 경도\n",
    "        y = result['documents'][0]['y']  # 위도\n",
    "        return x, y\n",
    "    else:\n",
    "        return None, None"
   ]
  },
  {
   "cell_type": "markdown",
   "id": "0c9b0c06",
   "metadata": {},
   "source": [
    "## 3. 길찾기 API 호출 (자동차 기준)"
   ]
  },
  {
   "cell_type": "code",
   "execution_count": null,
   "id": "d2110641",
   "metadata": {},
   "outputs": [],
   "source": [
    "def get_route_time_and_distance(start_x, start_y, end_x, end_y, api_key):\n",
    "    url = \"https://apis-navi.kakaomobility.com/v1/directions\"\n",
    "    headers = {\n",
    "        \"Authorization\": f\"KakaoAK {api_key}\",\n",
    "        \"Content-Type\": \"application/json\"\n",
    "    }\n",
    "    data = {\n",
    "        \"origin\": {\"x\": start_x, \"y\": start_y},\n",
    "        \"destination\": {\"x\": end_x, \"y\": end_y},\n",
    "        \"priority\": \"RECOMMEND\"\n",
    "    }\n",
    "    response = requests.post(url, headers=headers, json=data)\n",
    "    result = response.json()\n",
    "    if result.get(\"routes\"):\n",
    "        distance = result[\"routes\"][0][\"summary\"][\"distance\"]  # meter\n",
    "        duration = result[\"routes\"][0][\"summary\"][\"duration\"]  # milliseconds\n",
    "        return distance, duration\n",
    "    else:\n",
    "        return None, None\n"
   ]
  },
  {
   "cell_type": "markdown",
   "id": "83e17c0e",
   "metadata": {},
   "source": [
    "## 4. 전체 사용"
   ]
  },
  {
   "cell_type": "code",
   "execution_count": null,
   "id": "133edeb8",
   "metadata": {},
   "outputs": [],
   "source": [
    "API_KEY = \"여기에_발급받은_카카오_REST_API_키\"\n",
    "\n",
    "# 주소 → 좌표\n",
    "home_x, home_y = get_coords(\"서울시 송파구 올림픽로 300\", API_KEY)\n",
    "company_x, company_y = get_coords(\"서울시 강남구 테헤란로 10\", API_KEY)\n",
    "\n",
    "# 거리/시간 계산\n",
    "if home_x and company_x:\n",
    "    distance, duration = get_route_time_and_distance(home_x, home_y, company_x, company_y, API_KEY)\n",
    "    print(f\"거리: {distance/1000:.2f} km\")\n",
    "    print(f\"예상 소요시간: {duration/60000:.1f} 분\")\n"
   ]
  }
 ],
 "metadata": {
  "kernelspec": {
   "display_name": "Python 3",
   "language": "python",
   "name": "python3"
  },
  "language_info": {
   "name": "python",
   "version": "3.13.5"
  }
 },
 "nbformat": 4,
 "nbformat_minor": 5
}
